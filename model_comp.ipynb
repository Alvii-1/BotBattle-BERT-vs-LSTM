{
 "cells": [
  {
   "cell_type": "code",
   "execution_count": 35,
   "id": "4576edc4",
   "metadata": {},
   "outputs": [],
   "source": [
    "# Import statements\n",
    "import pandas as pd\n",
    "import numpy as np\n",
    "import torch\n",
    "import math\n",
    "from matplotlib import pyplot as plt\n",
    "from sklearn.model_selection import train_test_split\n",
    "from sklearn.metrics import precision_score, recall_score, f1_score, accuracy_score, precision_recall_fscore_support\n",
    "import torch.nn.functional as F\n",
    "from gensim.models import Word2Vec\n",
    "from torch import nn, optim\n",
    "from torch.utils.data import DataLoader, Dataset\n",
    "from transformers import BertTokenizer, BertForSequenceClassification, Trainer, TrainingArguments, EvalPrediction\n",
    "from tqdm import tqdm\n",
    "from collections import Counter"
   ]
  },
  {
   "cell_type": "code",
   "execution_count": 88,
   "id": "1f6f97b3",
   "metadata": {},
   "outputs": [],
   "source": [
    "# Load the dataset(s)\n",
    "\n",
    "# Parse using pandas\n",
    "data_sp = pd.read_csv('data/Spotify_F.csv')\n",
    "data_ge = pd.read_csv('data/General_F.csv')\n",
    "\n",
    "# Preparing the datasets\n",
    "\n",
    "# Spotify sentences and labels first\n",
    "sp_sents = data_sp['sent'].tolist() \n",
    "sp_labels = data_sp['label'].astype(int).tolist() \n",
    "\n",
    "# General sentences and labels second\n",
    "ge_sents = data_ge['sent'].tolist() \n",
    "ge_labels = data_ge['label'].astype(int).tolist()   \n",
    "\n",
    "# Split the dataset into training and test sets\n",
    "# 80% (2400) of General becomes training data\n",
    "# 20% (600) of General becomes testing data\n",
    "# 100% (All) of Spotify becomes testing data\n",
    "train_sents = ge_sents[0:2400]\n",
    "train_labels = ge_labels[0:2400]\n",
    "test_sents = ge_sents[2400:] + sp_sents\n",
    "test_labels = ge_labels[2400:] + sp_labels\n",
    "\n",
    "# Setup BERT encodings and tokenizer\n",
    "tokenizer = BertTokenizer.from_pretrained(\"bert-base-uncased\")\n",
    "train_enc = tokenizer(train_sents, truncation=True, padding=True, max_length=12) \n",
    "test_enc = tokenizer(test_sents, truncation=True, padding=True, max_length=12)\n",
    "\n",
    "# Setup LSTM tokens and tokenizer\n",
    "def tokenize(sentences):                                  # Tokenize the sentences\n",
    "    return [sentence.split() for sentence in sentences]   # Split via whitespace, each word is a list element\n",
    "\n",
    "train_tokens = tokenize(train_sents) # Training tokens in a list\n",
    "test_tokens = tokenize(test_sents)   # Test tokens in a list"
   ]
  },
  {
   "cell_type": "code",
   "execution_count": 7,
   "id": "169f0539",
   "metadata": {},
   "outputs": [],
   "source": [
    "# Word2Vec Model\n",
    "word2vec = Word2Vec(sentences=train_tokens, vector_size=100, window=5, min_count=1, workers=4)"
   ]
  },
  {
   "cell_type": "code",
   "execution_count": 9,
   "id": "c022f61a-8ef3-4606-b2cf-1970c1d30aac",
   "metadata": {},
   "outputs": [],
   "source": [
    "def compute_max_length(sentences): \n",
    "    # Compute max length of sentence for LSTM validation (error case)\n",
    "    max_length = 0 \n",
    "    for sentence in sentences: \n",
    "        length = len(sentence) \n",
    "        if length > max_length: \n",
    "            max_length = length \n",
    "    return max_length"
   ]
  },
  {
   "cell_type": "code",
   "execution_count": 11,
   "id": "c10d06af",
   "metadata": {},
   "outputs": [],
   "source": [
    "# Create a PyTorch Dataset class\n",
    "class TextDataset(Dataset):\n",
    "    def __init__(self, sentences, labels, word2vec = word2vec, max_length = 10):\n",
    "        self.sentences = sentences\n",
    "        self.labels = labels\n",
    "        self.word2vec = word2vec\n",
    "\n",
    "        self.max_length = max_length\n",
    "\n",
    "    def __len__(self):\n",
    "        return len(self.sentences)\n",
    "\n",
    "    def __getitem__(self, idx):\n",
    "        sentence = self.sentences[idx]\n",
    "        label = self.labels[idx]\n",
    "\n",
    "        sentence_vec = [self.word2vec.wv[word] for word in sentence if word in self.word2vec.wv]\n",
    "        if len(sentence_vec) == 0:\n",
    "            sentence_vec = [np.zeros(self.word2vec.vector_size)]\n",
    "        \n",
    "        if len(sentence_vec) < self.max_length:\n",
    "            padding = [np.zeros(self.word2vec.vector_size)] * (self.max_length - len(sentence_vec))\n",
    "            sentence_vec.extend(padding)\n",
    "        elif len(sentence_vec) > self.max_length:\n",
    "            sentence_vec = sentence_vec[:self.max_length]\n",
    "\n",
    "        sentence_vec = np.array(sentence_vec)\n",
    "\n",
    "        return torch.tensor(sentence_vec, dtype=torch.float32), torch.tensor(label, dtype=torch.long)"
   ]
  },
  {
   "cell_type": "code",
   "execution_count": 13,
   "id": "6f696866-be26-4bb0-b3d3-814ba716a997",
   "metadata": {},
   "outputs": [],
   "source": [
    "# Create a PyTorch Dataset class for Bert specifically\n",
    "class BertDataset(Dataset):\n",
    "    def __init__(self, encodings, labels):\n",
    "        self.encodings = encodings\n",
    "        self.labels = labels\n",
    "\n",
    "    def __len__(self):\n",
    "        return len(self.labels)\n",
    "\n",
    "    def __getitem__(self, idx):\n",
    "        item = {key: torch.tensor(val[idx]) for key, val in self.encodings.items()}\n",
    "        item['labels']= torch.tensor(self.labels[idx], dtype = torch.long)\n",
    "        return item"
   ]
  },
  {
   "cell_type": "code",
   "execution_count": 15,
   "id": "628232b0-a108-4121-b02d-72f3f5ca2024",
   "metadata": {},
   "outputs": [],
   "source": [
    "def remove_none_collate(batch):\n",
    "    # Error case handling when the batch contains a None value\n",
    "    batch = list(filter(lambda x: x is not None, batch))\n",
    "    if not batch:\n",
    "        return None\n",
    "    return torch.utils.data.dataloader.default_collate(batch)"
   ]
  },
  {
   "cell_type": "code",
   "execution_count": 17,
   "id": "c0be094a",
   "metadata": {},
   "outputs": [],
   "source": [
    "# Create DataLoader\n",
    "# Each dataset below is a combination of the tokens or encodings from the dataset, plus the corresponding sentiment labels\n",
    "# LABELS --\n",
    "#  0 - Neutral\n",
    "#  1 - Positive\n",
    "# -1 - Negative\n",
    "\n",
    "# Training sets creation for LSTM and BERT\n",
    "train_dataset = TextDataset(train_tokens, train_labels, word2vec, compute_max_length(train_sents)) \n",
    "train_b_dataset = BertDataset(train_enc, train_labels)\n",
    "\n",
    "# Testing sets creation for LSTM and BERT\n",
    "test_dataset = TextDataset(test_tokens, test_labels, word2vec, compute_max_length(test_sents))      \n",
    "test_b_dataset = BertDataset(test_enc, test_labels)\n",
    "\n",
    "# The model will receive each dataset one at a time, in sample sizes of 16 items, and train_loader will be shuffled randomly\n",
    "# Shuffled randomly to ensure it doesn't catch on to the pattern in the dataset (alternating grammatical / ungrammatical entries)\n",
    "# Batch sizes are differed for each loader and used for separate models' training later\n",
    "train_loader = DataLoader(train_dataset, batch_size = 16, collate_fn=remove_none_collate, shuffle = True)\n",
    "test_loader = DataLoader(test_dataset, batch_size = 1, collate_fn=remove_none_collate, shuffle = False)"
   ]
  },
  {
   "cell_type": "code",
   "execution_count": 19,
   "id": "cce61e05",
   "metadata": {},
   "outputs": [],
   "source": [
    "# Define LSTM model\n",
    "class LSTMModel(nn.Module):\n",
    "    def __init__(self, input_size, hidden_size, output_size):\n",
    "        super(LSTMModel, self).__init__()\n",
    "        self.lstm = nn.LSTM(input_size, hidden_size, batch_first=True)\n",
    "        self.fc = nn.Linear(hidden_size, output_size)\n",
    "\n",
    "    def forward(self, x):\n",
    "        _, (hidden, _) = self.lstm(x)\n",
    "        out = self.fc(hidden[-1])\n",
    "        return out"
   ]
  },
  {
   "cell_type": "code",
   "execution_count": 21,
   "id": "20f7ee9f",
   "metadata": {},
   "outputs": [
    {
     "name": "stderr",
     "output_type": "stream",
     "text": [
      "Some weights of BertForSequenceClassification were not initialized from the model checkpoint at bert-base-uncased and are newly initialized: ['classifier.bias', 'classifier.weight']\n",
      "You should probably TRAIN this model on a down-stream task to be able to use it for predictions and inference.\n"
     ]
    },
    {
     "data": {
      "text/plain": [
       "LSTMModel(\n",
       "  (lstm): LSTM(100, 128, batch_first=True)\n",
       "  (fc): Linear(in_features=128, out_features=2, bias=True)\n",
       ")"
      ]
     },
     "execution_count": 21,
     "metadata": {},
     "output_type": "execute_result"
    }
   ],
   "source": [
    "# Initialize models, loss, and optimizer\n",
    "# Initialization done by creating instance objects of the classes above\n",
    "input_size = 100\n",
    "hidden_size = 128\n",
    "output_size = 2  # Assuming binary classification\n",
    "\n",
    "# Setting up LSTM model\n",
    "lstm_model = LSTMModel(input_size, hidden_size, output_size) # Setting up LSTM Model\n",
    "\n",
    "# Setting up BERT model\n",
    "model = BertForSequenceClassification.from_pretrained(\"bert-base-uncased\", num_labels = 3)\n",
    "\n",
    "criterion = nn.CrossEntropyLoss()\n",
    "lstm_optimizer = optim.Adam(lstm_model.parameters(), lr=0.001)\n",
    "\n",
    "# Get device hardware automatically\n",
    "device = torch.device(\"mps\" if torch.backends.mps.is_available() else (\"cuda\" if torch.cuda.is_available() else \"cpu\"))\n",
    "lstm_model.to(device)"
   ]
  },
  {
   "cell_type": "code",
   "execution_count": 23,
   "id": "31a3b6b0",
   "metadata": {},
   "outputs": [],
   "source": [
    "# Training loop for LSTM model\n",
    "def train_model(model, optimizer, train_loader, epochs):\n",
    "    model.train()\n",
    "    for epoch in range(epochs):\n",
    "        running_loss = 0.0\n",
    "        for inputs, labels in tqdm(train_loader):\n",
    "            inputs, labels = inputs.to(device), labels.to(device)\n",
    "            optimizer.zero_grad()\n",
    "            outputs = model(inputs)\n",
    "            loss = criterion(outputs, labels)\n",
    "            loss.backward()\n",
    "            optimizer.step()\n",
    "            running_loss += loss.item()\n",
    "        \n",
    "        print(f\"Epoch {epoch+1}/{epochs}, Loss: {running_loss/len(train_loader)}\")"
   ]
  },
  {
   "cell_type": "code",
   "execution_count": 25,
   "id": "67794e2c-b9aa-44aa-a467-f871ab0c6fa5",
   "metadata": {},
   "outputs": [],
   "source": [
    "def compute_metrics(p: EvalPrediction):\n",
    "    predictions, labels = p\n",
    "    preds = predictions.argmax(-1)\n",
    "    precision, recall, f1, _ = precision_recall_fscore_support(labels, preds, average='weighted')\n",
    "    acc = accuracy_score(labels, preds)\n",
    "\n",
    "    return {\n",
    "        'accuracy':acc,\n",
    "        'f1':f1,\n",
    "        'precision':precision,\n",
    "        'recall':recall\n",
    "    }"
   ]
  },
  {
   "cell_type": "code",
   "execution_count": 27,
   "id": "b4870276",
   "metadata": {},
   "outputs": [
    {
     "name": "stdout",
     "output_type": "stream",
     "text": [
      "Training LSTM models...\n"
     ]
    },
    {
     "name": "stderr",
     "output_type": "stream",
     "text": [
      "100%|█████████████████████████████████████████| 150/150 [00:02<00:00, 69.80it/s]\n"
     ]
    },
    {
     "name": "stdout",
     "output_type": "stream",
     "text": [
      "Epoch 1/5, Loss: 0.4938246925671895\n"
     ]
    },
    {
     "name": "stderr",
     "output_type": "stream",
     "text": [
      "100%|████████████████████████████████████████| 150/150 [00:01<00:00, 103.75it/s]\n"
     ]
    },
    {
     "name": "stdout",
     "output_type": "stream",
     "text": [
      "Epoch 2/5, Loss: 0.4917208743095398\n"
     ]
    },
    {
     "name": "stderr",
     "output_type": "stream",
     "text": [
      "100%|████████████████████████████████████████| 150/150 [00:01<00:00, 105.56it/s]\n"
     ]
    },
    {
     "name": "stdout",
     "output_type": "stream",
     "text": [
      "Epoch 3/5, Loss: 0.49144233028093975\n"
     ]
    },
    {
     "name": "stderr",
     "output_type": "stream",
     "text": [
      "100%|████████████████████████████████████████| 150/150 [00:01<00:00, 104.97it/s]\n"
     ]
    },
    {
     "name": "stdout",
     "output_type": "stream",
     "text": [
      "Epoch 4/5, Loss: 0.49107512772083284\n"
     ]
    },
    {
     "name": "stderr",
     "output_type": "stream",
     "text": [
      "100%|████████████████████████████████████████| 150/150 [00:01<00:00, 105.23it/s]\n"
     ]
    },
    {
     "name": "stdout",
     "output_type": "stream",
     "text": [
      "Epoch 5/5, Loss: 0.4907893309990565\n"
     ]
    },
    {
     "data": {
      "text/html": [
       "\n",
       "    <div>\n",
       "      \n",
       "      <progress value='450' max='450' style='width:300px; height:20px; vertical-align: middle;'></progress>\n",
       "      [450/450 01:38, Epoch 3/3]\n",
       "    </div>\n",
       "    <table border=\"1\" class=\"dataframe\">\n",
       "  <thead>\n",
       " <tr style=\"text-align: left;\">\n",
       "      <th>Step</th>\n",
       "      <th>Training Loss</th>\n",
       "    </tr>\n",
       "  </thead>\n",
       "  <tbody>\n",
       "    <tr>\n",
       "      <td>10</td>\n",
       "      <td>0.676000</td>\n",
       "    </tr>\n",
       "    <tr>\n",
       "      <td>20</td>\n",
       "      <td>0.741300</td>\n",
       "    </tr>\n",
       "    <tr>\n",
       "      <td>30</td>\n",
       "      <td>0.667300</td>\n",
       "    </tr>\n",
       "    <tr>\n",
       "      <td>40</td>\n",
       "      <td>0.666600</td>\n",
       "    </tr>\n",
       "    <tr>\n",
       "      <td>50</td>\n",
       "      <td>0.632100</td>\n",
       "    </tr>\n",
       "    <tr>\n",
       "      <td>60</td>\n",
       "      <td>0.656100</td>\n",
       "    </tr>\n",
       "    <tr>\n",
       "      <td>70</td>\n",
       "      <td>0.582400</td>\n",
       "    </tr>\n",
       "    <tr>\n",
       "      <td>80</td>\n",
       "      <td>0.520700</td>\n",
       "    </tr>\n",
       "    <tr>\n",
       "      <td>90</td>\n",
       "      <td>0.538900</td>\n",
       "    </tr>\n",
       "    <tr>\n",
       "      <td>100</td>\n",
       "      <td>0.508300</td>\n",
       "    </tr>\n",
       "    <tr>\n",
       "      <td>110</td>\n",
       "      <td>0.464700</td>\n",
       "    </tr>\n",
       "    <tr>\n",
       "      <td>120</td>\n",
       "      <td>0.490100</td>\n",
       "    </tr>\n",
       "    <tr>\n",
       "      <td>130</td>\n",
       "      <td>0.453000</td>\n",
       "    </tr>\n",
       "    <tr>\n",
       "      <td>140</td>\n",
       "      <td>0.423300</td>\n",
       "    </tr>\n",
       "    <tr>\n",
       "      <td>150</td>\n",
       "      <td>0.491900</td>\n",
       "    </tr>\n",
       "    <tr>\n",
       "      <td>160</td>\n",
       "      <td>0.400500</td>\n",
       "    </tr>\n",
       "    <tr>\n",
       "      <td>170</td>\n",
       "      <td>0.373000</td>\n",
       "    </tr>\n",
       "    <tr>\n",
       "      <td>180</td>\n",
       "      <td>0.363900</td>\n",
       "    </tr>\n",
       "    <tr>\n",
       "      <td>190</td>\n",
       "      <td>0.379900</td>\n",
       "    </tr>\n",
       "    <tr>\n",
       "      <td>200</td>\n",
       "      <td>0.359600</td>\n",
       "    </tr>\n",
       "    <tr>\n",
       "      <td>210</td>\n",
       "      <td>0.427800</td>\n",
       "    </tr>\n",
       "    <tr>\n",
       "      <td>220</td>\n",
       "      <td>0.302400</td>\n",
       "    </tr>\n",
       "    <tr>\n",
       "      <td>230</td>\n",
       "      <td>0.344600</td>\n",
       "    </tr>\n",
       "    <tr>\n",
       "      <td>240</td>\n",
       "      <td>0.370800</td>\n",
       "    </tr>\n",
       "    <tr>\n",
       "      <td>250</td>\n",
       "      <td>0.373600</td>\n",
       "    </tr>\n",
       "    <tr>\n",
       "      <td>260</td>\n",
       "      <td>0.353000</td>\n",
       "    </tr>\n",
       "    <tr>\n",
       "      <td>270</td>\n",
       "      <td>0.419400</td>\n",
       "    </tr>\n",
       "    <tr>\n",
       "      <td>280</td>\n",
       "      <td>0.421800</td>\n",
       "    </tr>\n",
       "    <tr>\n",
       "      <td>290</td>\n",
       "      <td>0.424400</td>\n",
       "    </tr>\n",
       "    <tr>\n",
       "      <td>300</td>\n",
       "      <td>0.325700</td>\n",
       "    </tr>\n",
       "    <tr>\n",
       "      <td>310</td>\n",
       "      <td>0.231100</td>\n",
       "    </tr>\n",
       "    <tr>\n",
       "      <td>320</td>\n",
       "      <td>0.222900</td>\n",
       "    </tr>\n",
       "    <tr>\n",
       "      <td>330</td>\n",
       "      <td>0.304900</td>\n",
       "    </tr>\n",
       "    <tr>\n",
       "      <td>340</td>\n",
       "      <td>0.339000</td>\n",
       "    </tr>\n",
       "    <tr>\n",
       "      <td>350</td>\n",
       "      <td>0.289400</td>\n",
       "    </tr>\n",
       "    <tr>\n",
       "      <td>360</td>\n",
       "      <td>0.254100</td>\n",
       "    </tr>\n",
       "    <tr>\n",
       "      <td>370</td>\n",
       "      <td>0.253800</td>\n",
       "    </tr>\n",
       "    <tr>\n",
       "      <td>380</td>\n",
       "      <td>0.286700</td>\n",
       "    </tr>\n",
       "    <tr>\n",
       "      <td>390</td>\n",
       "      <td>0.283400</td>\n",
       "    </tr>\n",
       "    <tr>\n",
       "      <td>400</td>\n",
       "      <td>0.314200</td>\n",
       "    </tr>\n",
       "    <tr>\n",
       "      <td>410</td>\n",
       "      <td>0.155200</td>\n",
       "    </tr>\n",
       "    <tr>\n",
       "      <td>420</td>\n",
       "      <td>0.214000</td>\n",
       "    </tr>\n",
       "    <tr>\n",
       "      <td>430</td>\n",
       "      <td>0.382800</td>\n",
       "    </tr>\n",
       "    <tr>\n",
       "      <td>440</td>\n",
       "      <td>0.335900</td>\n",
       "    </tr>\n",
       "    <tr>\n",
       "      <td>450</td>\n",
       "      <td>0.325400</td>\n",
       "    </tr>\n",
       "  </tbody>\n",
       "</table><p>"
      ],
      "text/plain": [
       "<IPython.core.display.HTML object>"
      ]
     },
     "metadata": {},
     "output_type": "display_data"
    },
    {
     "data": {
      "text/plain": [
       "TrainOutput(global_step=450, training_loss=0.4076846543947856, metrics={'train_runtime': 101.7146, 'train_samples_per_second': 70.786, 'train_steps_per_second': 4.424, 'total_flos': 44400389241600.0, 'train_loss': 0.4076846543947856, 'epoch': 3.0})"
      ]
     },
     "execution_count": 27,
     "metadata": {},
     "output_type": "execute_result"
    }
   ],
   "source": [
    "# Train LSTM models with each epoch and batch size \n",
    "print(\"Training LSTM models...\")\n",
    "train_model(lstm_model, lstm_optimizer, train_loader, epochs = 5)\n",
    "\n",
    "# Setup arguments and training BERT model\n",
    "training_args = TrainingArguments( \n",
    "    output_dir = './results', \n",
    "    num_train_epochs = 3, \n",
    "    per_device_train_batch_size = 16, \n",
    "    per_device_eval_batch_size = 64, \n",
    "    warmup_steps = 500, \n",
    "    weight_decay = 0.01, \n",
    "    logging_dir = './logs', \n",
    "    logging_steps = 10, \n",
    ")\n",
    "\n",
    "trainer = Trainer(\n",
    "    model = model,\n",
    "    args = training_args,\n",
    "    train_dataset = train_b_dataset,\n",
    "    eval_dataset = test_b_dataset,\n",
    "    compute_metrics = compute_metrics\n",
    ")\n",
    "\n",
    "trainer.train()"
   ]
  },
  {
   "cell_type": "code",
   "execution_count": 29,
   "id": "966d9c8f-ec07-4411-8ff3-8d5a8bf682e2",
   "metadata": {},
   "outputs": [],
   "source": [
    "# Evaluation function\n",
    "def evaluate(model, data_loader):\n",
    "    model.eval()\n",
    "    all_preds = []\n",
    "    all_labels = []\n",
    "    with torch.no_grad():\n",
    "        for inputs, labels in data_loader:\n",
    "            inputs, labels = inputs.to(device), labels.to(device)\n",
    "            outputs = model(inputs)\n",
    "            _, preds = torch.max(outputs, 1)\n",
    "            all_preds.extend(preds.cpu().numpy())\n",
    "            all_labels.extend(labels.cpu().numpy())\n",
    "    return all_labels, all_preds"
   ]
  },
  {
   "cell_type": "code",
   "execution_count": 37,
   "id": "404a609b-7228-4820-bb77-355b8db74594",
   "metadata": {},
   "outputs": [],
   "source": [
    "def evaluate_lstm_model(model, dataloader, criterion, device):\n",
    "    model.eval()\n",
    "    all_preds = []\n",
    "    all_labels = []\n",
    "    total_loss = 0\n",
    "    \n",
    "    with torch.no_grad():\n",
    "        for inputs, labels in dataloader:\n",
    "            inputs, labels = inputs.to(device), labels.to(device)\n",
    "            outputs = model(inputs)\n",
    "            loss = criterion(outputs, labels)\n",
    "            total_loss += loss.item()\n",
    "            \n",
    "            preds = outputs.argmax(dim=1).cpu().numpy()\n",
    "            labels = labels.cpu().numpy()\n",
    "            all_preds.extend(preds)\n",
    "            all_labels.extend(labels)\n",
    "    \n",
    "    avg_loss = total_loss / len(dataloader)\n",
    "    acc = accuracy_score(all_labels, all_preds)\n",
    "    precision, recall, f1, _ = precision_recall_fscore_support(all_labels, all_preds, average='weighted')\n",
    "    \n",
    "    return {\n",
    "        'loss': avg_loss,\n",
    "        'accuracy': acc,\n",
    "        'precision': precision,\n",
    "        'recall': recall,\n",
    "        'f1': f1\n",
    "    }"
   ]
  },
  {
   "cell_type": "code",
   "execution_count": 74,
   "id": "2dbb0027-c21c-483a-a5a6-b231a85073f9",
   "metadata": {},
   "outputs": [
    {
     "name": "stdout",
     "output_type": "stream",
     "text": [
      "Evaluating LSTM Model...\n",
      "Loss: 40.30519892865913\n",
      "Accuracy: 6.809338521400778\n",
      "Precision: 0.4636709109903253\n",
      "Recall: 6.809338521400778\n",
      "F1 Score: 0.8682216693953635\n",
      "Evaluating BERT Model...\n"
     ]
    },
    {
     "name": "stderr",
     "output_type": "stream",
     "text": [
      "/opt/anaconda3/lib/python3.12/site-packages/sklearn/metrics/_classification.py:1531: UndefinedMetricWarning: Precision is ill-defined and being set to 0.0 in labels with no predicted samples. Use `zero_division` parameter to control this behavior.\n",
      "  _warn_prf(average, modifier, f\"{metric.capitalize()} is\", len(result))\n"
     ]
    },
    {
     "name": "stdout",
     "output_type": "stream",
     "text": [
      "Loss: 27.5674968957901\n",
      "Accuracy: 37.604224569205115\n",
      "Precision: 32.08224200992731\n",
      "Recall: 0.37604224569205114\n",
      "F1 Score: 32.67888159126974\n"
     ]
    },
    {
     "name": "stderr",
     "output_type": "stream",
     "text": [
      "/opt/anaconda3/lib/python3.12/site-packages/sklearn/metrics/_classification.py:1531: UndefinedMetricWarning: Precision is ill-defined and being set to 0.0 in labels with no predicted samples. Use `zero_division` parameter to control this behavior.\n",
      "  _warn_prf(average, modifier, f\"{metric.capitalize()} is\", len(result))\n"
     ]
    }
   ],
   "source": [
    "# Getting the model performance values for BERT and LSTM\n",
    "\n",
    "# Evaluate the LSTM model\n",
    "print(\"Evaluating LSTM Model...\")\n",
    "lstm_res = evaluate_lstm_model(lstm_model, test_loader, criterion, device)\n",
    "\n",
    "# Print the evaluation results\n",
    "print(f\"Loss: {lstm_res['loss'] * 100}\")\n",
    "print(f\"Accuracy: {lstm_res['accuracy'] * 100}\")\n",
    "print(f\"Precision: {lstm_res['precision'] * 100}\")\n",
    "print(f\"Recall: {lstm_res['recall'] * 100}\")\n",
    "print(f\"F1 Score: {lstm_res['f1'] * 100}\")\n",
    "\n",
    "print(\"Evaluating BERT Model...\")\n",
    "evaluation_results = trainer.evaluate()\n",
    "\n",
    "# Extract and print each score\n",
    "accuracy = evaluation_results.get('eval_accuracy', None)\n",
    "precision = evaluation_results.get('eval_precision', None)\n",
    "recall = evaluation_results.get('eval_recall', None)\n",
    "f1_score = evaluation_results.get('eval_f1', None)\n",
    "loss = evaluation_results.get('eval_loss', None)\n",
    "\n",
    "print(f\"Loss: {loss*100}\")\n",
    "print(f\"Accuracy: {accuracy*100}\")\n",
    "print(f\"Precision: {precision*100}\")\n",
    "print(f\"Recall: {recall}\")\n",
    "print(f\"F1 Score: {f1_score*100}\")"
   ]
  },
  {
   "cell_type": "code",
   "execution_count": 86,
   "id": "1c6f194a-0e19-448f-ad2e-53dc2b2707aa",
   "metadata": {},
   "outputs": [
    {
     "data": {
      "image/png": "[encoded data removed]",
      "text/plain": [
       "<Figure size 800x400 with 1 Axes>"
      ]
     },
     "metadata": {},
     "output_type": "display_data"
    },
    {
     "data": {
      "image/png": "[encoded data removed]",
      "text/plain": [
       "<Figure size 800x400 with 1 Axes>"
      ]
     },
     "metadata": {},
     "output_type": "display_data"
    },
    {
     "data": {
      "image/png": "[encoded data removed]",
      "text/plain": [
       "<Figure size 800x400 with 1 Axes>"
      ]
     },
     "metadata": {},
     "output_type": "display_data"
    },
    {
     "data": {
      "image/png": "[encoded data removed]",
      "text/plain": [
       "<Figure size 800x400 with 1 Axes>"
      ]
     },
     "metadata": {},
     "output_type": "display_data"
    },
    {
     "data": {
      "image/png": "[encoded data removed]",
      "text/plain": [
       "<Figure size 800x400 with 1 Axes>"
      ]
     },
     "metadata": {},
     "output_type": "display_data"
    }
   ],
   "source": [
    "# Displaying Results\n",
    "\n",
    "LSTM_results = {\n",
    "    'Loss': lstm_res['loss']*100,\n",
    "    'Accuracy': lstm_res['accuracy']*100,\n",
    "    'Precision': lstm_res['precision']*100,\n",
    "    'Recall': lstm_res['recall']*100,\n",
    "    'F1 Score': lstm_res['f1']*100\n",
    "}\n",
    "\n",
    "BERT_results = {\n",
    "    'Loss': loss*100,\n",
    "    'Accuracy': accuracy*100,\n",
    "    'Precision': precision*100,\n",
    "    'Recall': recall*100,\n",
    "    'F1 Score': f1_score*100\n",
    "}\n",
    "\n",
    "metrics = ['Loss', 'Accuracy', 'Precision', 'Recall', 'F1 Score']\n",
    "metric_names = ['Loss', 'Accuracy', 'Precision', 'Recall', 'F1 Score']\n",
    "\n",
    "# Extract values for each metric\n",
    "BERT_values = [BERT_results[metric] for metric in metrics]\n",
    "LSTM_values = [LSTM_results[metric] for metric in metrics]\n",
    "\n",
    "# Creating individual plots for each metric\n",
    "for i, metric in enumerate(metrics):\n",
    "    plt.figure(figsize=(8, 4))\n",
    "    bar_width = 0.35\n",
    "    index = np.arange(2)\n",
    "    plt.bar(index, [BERT_values[i], LSTM_values[i]], width=bar_width, color=['blue', 'green'], edgecolor='grey', label=['BERT', 'LSTM'])\n",
    "    \n",
    "    plt.xlabel('Model', fontweight='bold')\n",
    "    plt.ylabel(metric_names[i], fontweight='bold')\n",
    "    plt.xticks(index, ['BERT', 'LSTM'])\n",
    "    plt.title(f'Comparison of {metric_names[i]}')\n",
    "    plt.legend()\n",
    "    plt.show()\n",
    "\n"
   ]
  }
 ],
 "metadata": {
  "kernelspec": {
   "display_name": "Python 3 (ipykernel)",
   "language": "python",
   "name": "python3"
  },
  "language_info": {
   "codemirror_mode": {
    "name": "ipython",
    "version": 3
   },
   "file_extension": ".py",
   "mimetype": "text/x-python",
   "name": "python",
   "nbconvert_exporter": "python",
   "pygments_lexer": "ipython3",
   "version": "3.12.2"
  }
 },
 "nbformat": 4,
 "nbformat_minor": 5
}
